{
 "cells": [
  {
   "cell_type": "code",
   "execution_count": null,
   "source": [
    "\n",
    "MAZE_FILE_NAME = \"../Maze.png\"\n",
    "ROBOT_FILE_NAME = \"../Robot.png\"\n",
    "IMAGE_LADYBUG_FILE_NAME = \"../Ladybug_small.png\"\n",
    "MAP_FILE_NAME = \"../MapBuilt.txt\""
   ],
   "outputs": [],
   "metadata": {}
  }
 ],
 "metadata": {
  "orig_nbformat": 4,
  "language_info": {
   "name": "plaintext"
  }
 },
 "nbformat": 4,
 "nbformat_minor": 2
}