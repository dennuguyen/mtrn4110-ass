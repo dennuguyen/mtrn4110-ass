{
 "cells": [
  {
   "cell_type": "code",
   "execution_count": null,
   "source": [
    "import cv2\n",
    "import matplotlib.pyplot as pyplot\n",
    "\n",
    "MAZE_FILE_NAME = '../Maze.png'\n",
    "ROBOT_FILE_NAME = '../Robot.png'\n",
    "IMAGE_LADYBUG_FILE_NAME = '../Ladybug_small.png'\n",
    "MAP_FILE_NAME = '../MapBuilt.txt'\n",
    "\n",
    "def readImage():\n",
    "    '''\n",
    "    Reads the maze image and shows it.\n",
    "    '''\n",
    "    img = cv2.imread(MAZE_FILE_NAME)\n",
    "    pyplot.imshow(\"Maze\", img)\n",
    "\n",
    "def identifyCorners():\n",
    "    pass\n",
    "\n",
    "def fixPerspective():\n",
    "    pass\n",
    "\n",
    "def detectWalls():\n",
    "    pass\n",
    "\n",
    "def detectPose():\n",
    "    pass\n",
    "\n",
    "def generateMap():\n",
    "    pass\n",
    "\n",
    "if __name__ == '__main__':\n",
    "    readImage()\n",
    "        "
   ],
   "outputs": [],
   "metadata": {}
  }
 ],
 "metadata": {
  "orig_nbformat": 4,
  "kernelspec": {
   "name": "python3",
   "display_name": "Python 3",
   "language": "python"
  }
 },
 "nbformat": 4,
 "nbformat_minor": 2
}